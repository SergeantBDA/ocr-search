{
 "cells": [
  {
   "cell_type": "code",
   "execution_count": 1,
   "id": "bbbe6fe8-3ecf-4158-8075-c18e6ef537ee",
   "metadata": {},
   "outputs": [],
   "source": [
    "import requests\n",
    "from pathlib import Path"
   ]
  },
  {
   "cell_type": "code",
   "execution_count": null,
   "id": "14e8a374-af18-422d-8611-7fdb8bfab2ad",
   "metadata": {},
   "outputs": [],
   "source": [
    "API_SEARCH_URL = \"https://docslook.interrao.ru/api/search\"\n",
    "API_UPLOAD_URL = \"http://localhost:8000/api/upload\"\n",
    "API_KEY = \"key1\"   # ваш ключ из .env → API_SECRET или API_KEYS"
   ]
  },
  {
   "cell_type": "code",
   "execution_count": 3,
   "id": "2f669d97-9c43-44e1-b586-c7759d0a8749",
   "metadata": {},
   "outputs": [],
   "source": [
    "# Пути к файлам, которые хотите загрузить\n",
    "files_to_upload = list( Path('./doc').glob('test.*') )   "
   ]
  },
  {
   "cell_type": "code",
   "execution_count": 5,
   "id": "b496fd4a-6ee0-4759-8f66-d688c7aebcb1",
   "metadata": {},
   "outputs": [
    {
     "name": "stdout",
     "output_type": "stream",
     "text": [
      "Job ID: http://localhost:8000/jobs/5320ef2d166f44038d25731ee38cc644\n",
      "Queued: 5\n",
      "Prefix: 2025101220_api\n"
     ]
    }
   ],
   "source": [
    "# Формируем кортежи (имя параметра, (имя файла, бинарные данные, mime-type))\n",
    "files = [\n",
    "    (\"files\", (f.name, open(f, \"rb\"), \"application/octet-stream\"))\n",
    "    for f in files_to_upload\n",
    "]\n",
    "\n",
    "headers = {\"X-API-Key\": API_KEY}\n",
    "\n",
    "response = requests.post(API_UPLOAD_URL, headers=headers, files=files)\n",
    "\n",
    "if response.ok:\n",
    "    data = response.json()\n",
    "    print(\"Job ID:\", f'http://localhost:8000/jobs/{data[\"job_id\"]}')\n",
    "    print(\"Queued:\", data[\"queued\"])\n",
    "    print(\"Prefix:\", data[\"prefix\"])\n",
    "else:\n",
    "    print(\"Ошибка:\", response.status_code, response.text)"
   ]
  },
  {
   "cell_type": "code",
   "execution_count": null,
   "id": "81fa4590-8d73-4759-9b94-031292dae7ec",
   "metadata": {},
   "outputs": [],
   "source": [
    "import requests\n",
    "import time\n",
    "\n",
    "# 1. Загрузка\n",
    "headers = {\"X-API-Key\": \"supersecret1\"}\n",
    "with open(\"document.pdf\", \"rb\") as f:\n",
    "    response = requests.post(\n",
    "        \"http://localhost:8000/api/upload\",\n",
    "        headers=headers,\n",
    "        files={\"files\": f},\n",
    "        data={\"owner\": \"test\", \"owner_email\": \"test@example.com\"}\n",
    "    )\n",
    "\n",
    "job_id = response.json()[\"job_id\"]\n",
    "print(f\"Uploaded, job_id: {job_id}\")\n",
    "\n",
    "# 2. Ожидание завершения OCR\n",
    "while True:\n",
    "    status_resp = requests.get(f\"http://localhost:8000/api/jobs/{job_id}\", headers=headers)\n",
    "    status = status_resp.json()\n",
    "    \n",
    "    print(f\"Status: {status['status']}, Progress: {status['progress']}%\")\n",
    "    \n",
    "    if status[\"status\"] in [\"completed\", \"error\"]:\n",
    "        break\n",
    "    \n",
    "    time.sleep(5)\n",
    "\n",
    "# 3. Поиск по распознанному тексту\n",
    "search_resp = requests.post(\n",
    "    \"http://localhost:8000/api/search\",\n",
    "    headers=headers,\n",
    "    json={\"q\": \"keyword\", \"limit\": 10}\n",
    ")\n",
    "results = search_resp.json()\n",
    "print(f\"Found {results['total']} documents\")"
   ]
  }
 ],
 "metadata": {
  "kernelspec": {
   "display_name": "Python 3 (ipykernel)",
   "language": "python",
   "name": "python3"
  },
  "language_info": {
   "codemirror_mode": {
    "name": "ipython",
    "version": 3
   },
   "file_extension": ".py",
   "mimetype": "text/x-python",
   "name": "python",
   "nbconvert_exporter": "python",
   "pygments_lexer": "ipython3",
   "version": "3.12.5"
  }
 },
 "nbformat": 4,
 "nbformat_minor": 5
}
